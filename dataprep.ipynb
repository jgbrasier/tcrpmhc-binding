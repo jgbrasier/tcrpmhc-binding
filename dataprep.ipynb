{
 "cells": [
  {
   "cell_type": "code",
   "execution_count": null,
   "metadata": {},
   "outputs": [],
   "source": [
    "import os\n",
    "import sys\n",
    "\n",
    "import numpy as np\n",
    "import matplotlib.pyplot as plt\n",
    "import pandas as pd"
   ]
  },
  {
   "cell_type": "markdown",
   "metadata": {},
   "source": [
    "# Dataset preprocessing"
   ]
  },
  {
   "cell_type": "code",
   "execution_count": null,
   "metadata": {},
   "outputs": [],
   "source": [
    "vdjdb_raw = pd.read_csv('data/raw/vdjdb.tsv', sep='\\t')\n",
    "iedb_raw = pd.read_csv('data/raw/iedb_mhc1.csv')"
   ]
  }
 ],
 "metadata": {
  "kernelspec": {
   "display_name": "Python 3.8.13 ('geo_lightning')",
   "language": "python",
   "name": "python3"
  },
  "language_info": {
   "name": "python",
   "version": "3.8.13"
  },
  "orig_nbformat": 4,
  "vscode": {
   "interpreter": {
    "hash": "73e2ca23702b1a0a44eb382a701e0753c1892c2a9c18bb9bb5c5b2fcf6d815fb"
   }
  }
 },
 "nbformat": 4,
 "nbformat_minor": 2
}
