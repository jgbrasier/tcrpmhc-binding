{
 "cells": [
  {
   "cell_type": "code",
   "execution_count": 2,
   "metadata": {},
   "outputs": [],
   "source": [
    "import os\n",
    "import sys\n",
    "\n",
    "import numpy as np\n",
    "import matplotlib.pyplot as plt\n",
    "import pandas as pd"
   ]
  },
  {
   "cell_type": "markdown",
   "metadata": {},
   "source": [
    "# Dataset preprocessing"
   ]
  },
  {
   "cell_type": "code",
   "execution_count": 4,
   "metadata": {},
   "outputs": [
    {
     "name": "stderr",
     "output_type": "stream",
     "text": [
      "/var/folders/w1/mbcsphtx2xz1xqrls0v3d6r80000gn/T/ipykernel_13121/3174298451.py:2: DtypeWarning: Columns (8,10,11,15,16,17,18,19,20,21,22,23,25,30,31,36,37,44,45,46,47,48,49,50,51,52,54,59,60,65,66) have mixed types. Specify dtype option on import or set low_memory=False.\n",
      "  iedb_raw = pd.read_csv('data/raw/iedb.csv')\n",
      "/var/folders/w1/mbcsphtx2xz1xqrls0v3d6r80000gn/T/ipykernel_13121/3174298451.py:3: DtypeWarning: Columns (13,17,24,26,28) have mixed types. Specify dtype option on import or set low_memory=False.\n",
      "  mcpas_raw = pd.read_csv('data/raw/mcpas-tcr.csv', encoding='latin1')\n"
     ]
    }
   ],
   "source": [
    "vdjdb_raw = pd.read_csv('data/raw/vdjdb_paired.tsv', sep='\\t')\n",
    "iedb_raw = pd.read_csv('data/raw/iedb.csv')\n",
    "mcpas_raw = pd.read_csv('data/raw/mcpas-tcr.csv', encoding='latin1')"
   ]
  },
  {
   "cell_type": "markdown",
   "metadata": {},
   "source": []
  },
  {
   "cell_type": "code",
   "execution_count": null,
   "metadata": {},
   "outputs": [],
   "source": []
  }
 ],
 "metadata": {
  "kernelspec": {
   "display_name": "Python 3.8.13 ('geo_lightning')",
   "language": "python",
   "name": "python3"
  },
  "language_info": {
   "codemirror_mode": {
    "name": "ipython",
    "version": 3
   },
   "file_extension": ".py",
   "mimetype": "text/x-python",
   "name": "python",
   "nbconvert_exporter": "python",
   "pygments_lexer": "ipython3",
   "version": "3.8.13"
  },
  "orig_nbformat": 4,
  "vscode": {
   "interpreter": {
    "hash": "73e2ca23702b1a0a44eb382a701e0753c1892c2a9c18bb9bb5c5b2fcf6d815fb"
   }
  }
 },
 "nbformat": 4,
 "nbformat_minor": 2
}
