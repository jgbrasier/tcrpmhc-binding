{
 "cells": [
  {
   "cell_type": "code",
   "execution_count": null,
   "metadata": {},
   "outputs": [],
   "source": []
  }
 ],
 "metadata": {
  "kernelspec": {
   "display_name": "Python 3.8.13 ('geo_lightning')",
   "language": "python",
   "name": "python3"
  },
  "language_info": {
   "name": "python",
   "version": "3.8.13"
  },
  "orig_nbformat": 4,
  "vscode": {
   "interpreter": {
    "hash": "73e2ca23702b1a0a44eb382a701e0753c1892c2a9c18bb9bb5c5b2fcf6d815fb"
   }
  }
 },
 "nbformat": 4,
 "nbformat_minor": 2
}
