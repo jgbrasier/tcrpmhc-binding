{
 "cells": [
  {
   "cell_type": "code",
   "execution_count": 1,
   "metadata": {},
   "outputs": [],
   "source": [
    "import os\n",
    "import sys\n",
    "import torch\n",
    "import pytorch_lightning as pl\n",
    "from pytorch_lightning import loggers as pl_loggers\n",
    "from pytorch_lightning.callbacks import ModelCheckpoint\n",
    "\n",
    "\n",
    "sys.path.insert(0, os.path.abspath(os.path.join('..')))\n",
    "\n",
    "from src.dataset import TCRSeqDataModule\n",
    "from src.models import LightningNetTCR\n",
    "from src.utils import blosum50_full, blosum50_20aa"
   ]
  },
  {
   "cell_type": "code",
   "execution_count": 2,
   "metadata": {},
   "outputs": [],
   "source": [
    "tcrseq = TCRSeqDataModule(path_to_file='../data/preprocessed/sample_train.csv',\n",
    "                        path_to_test_file='../data/preprocessed/sample_test.csv',\n",
    "                        peptide_len=9, cdra_len=30, cdrb_len=30)\n",
    "tcrseq.setup(sep=',', encoding=blosum50_20aa)\n",
    "train_loader = tcrseq.train_dataloader()\n",
    "val_loader = tcrseq.val_dataloader()\n",
    "test_loader = tcrseq.test_dataloader()"
   ]
  },
  {
   "cell_type": "code",
   "execution_count": 3,
   "metadata": {},
   "outputs": [
    {
     "name": "stderr",
     "output_type": "stream",
     "text": [
      "GPU available: True (mps), used: False\n",
      "TPU available: False, using: 0 TPU cores\n",
      "IPU available: False, using: 0 IPUs\n",
      "HPU available: False, using: 0 HPUs\n",
      "/Users/jgbrasier/miniforge3/envs/geo_lightning/lib/python3.8/site-packages/pytorch_lightning/trainer/trainer.py:1789: UserWarning: MPS available but not used. Set `accelerator` and `devices` using `Trainer(accelerator='mps', devices=1)`.\n",
      "  rank_zero_warn(\n",
      "Missing logger folder: logs/nettcr/nettcr-data/lightning_logs\n",
      "\n",
      "  | Name       | Type            | Params\n",
      "-----------------------------------------------\n",
      "0 | pep_conv   | ModuleList      | 3.7 K \n",
      "1 | cdra_conv  | ModuleList      | 12.1 K\n",
      "2 | cdrb_conv  | ModuleList      | 12.1 K\n",
      "3 | pool       | GlobalMaxPool1D | 0     \n",
      "4 | activation | Sigmoid         | 0     \n",
      "5 | lin1       | Linear          | 7.7 K \n",
      "6 | lin2       | Linear          | 33    \n",
      "7 | criterion  | BCELoss         | 0     \n",
      "-----------------------------------------------\n",
      "35.6 K    Trainable params\n",
      "0         Non-trainable params\n",
      "35.6 K    Total params\n",
      "0.142     Total estimated model params size (MB)\n"
     ]
    },
    {
     "data": {
      "application/vnd.jupyter.widget-view+json": {
       "model_id": "0eb2a875dacd45e6bf96b0d8dd3606f7",
       "version_major": 2,
       "version_minor": 0
      },
      "text/plain": [
       "Sanity Checking: 0it [00:00, ?it/s]"
      ]
     },
     "metadata": {},
     "output_type": "display_data"
    },
    {
     "name": "stderr",
     "output_type": "stream",
     "text": [
      "/Users/jgbrasier/miniforge3/envs/geo_lightning/lib/python3.8/site-packages/pytorch_lightning/trainer/connectors/data_connector.py:236: PossibleUserWarning: The dataloader, val_dataloader 0, does not have many workers which may be a bottleneck. Consider increasing the value of the `num_workers` argument` (try 10 which is the number of cpus on this machine) in the `DataLoader` init to improve performance.\n",
      "  rank_zero_warn(\n",
      "/Users/jgbrasier/miniforge3/envs/geo_lightning/lib/python3.8/site-packages/pytorch_lightning/trainer/connectors/data_connector.py:236: PossibleUserWarning: The dataloader, train_dataloader, does not have many workers which may be a bottleneck. Consider increasing the value of the `num_workers` argument` (try 10 which is the number of cpus on this machine) in the `DataLoader` init to improve performance.\n",
      "  rank_zero_warn(\n"
     ]
    },
    {
     "data": {
      "application/vnd.jupyter.widget-view+json": {
       "model_id": "66638100022d4bf9b9962288311b84f9",
       "version_major": 2,
       "version_minor": 0
      },
      "text/plain": [
       "Training: 0it [00:00, ?it/s]"
      ]
     },
     "metadata": {},
     "output_type": "display_data"
    },
    {
     "data": {
      "application/vnd.jupyter.widget-view+json": {
       "model_id": "c31684437ae149789b935383973d4549",
       "version_major": 2,
       "version_minor": 0
      },
      "text/plain": [
       "Validation: 0it [00:00, ?it/s]"
      ]
     },
     "metadata": {},
     "output_type": "display_data"
    },
    {
     "data": {
      "application/vnd.jupyter.widget-view+json": {
       "model_id": "5baa880a55994fd9bd7a54cacd7b6b89",
       "version_major": 2,
       "version_minor": 0
      },
      "text/plain": [
       "Validation: 0it [00:00, ?it/s]"
      ]
     },
     "metadata": {},
     "output_type": "display_data"
    },
    {
     "data": {
      "application/vnd.jupyter.widget-view+json": {
       "model_id": "589d9c0de4454503b6772fbcdaf3e5ef",
       "version_major": 2,
       "version_minor": 0
      },
      "text/plain": [
       "Validation: 0it [00:00, ?it/s]"
      ]
     },
     "metadata": {},
     "output_type": "display_data"
    },
    {
     "data": {
      "application/vnd.jupyter.widget-view+json": {
       "model_id": "9645467e20e94f37bbce698cb45f12fa",
       "version_major": 2,
       "version_minor": 0
      },
      "text/plain": [
       "Validation: 0it [00:00, ?it/s]"
      ]
     },
     "metadata": {},
     "output_type": "display_data"
    },
    {
     "name": "stderr",
     "output_type": "stream",
     "text": [
      "/Users/jgbrasier/miniforge3/envs/geo_lightning/lib/python3.8/site-packages/pytorch_lightning/trainer/trainer.py:653: UserWarning: Detected KeyboardInterrupt, attempting graceful shutdown...\n",
      "  rank_zero_warn(\"Detected KeyboardInterrupt, attempting graceful shutdown...\")\n"
     ]
    }
   ],
   "source": [
    "nettcr = LightningNetTCR(peptide_len=9, cdra_len=30, cdrb_len=30, batch_size=tcrseq.hparams.batch_size)\n",
    "checkpoint_callback = ModelCheckpoint(dirpath=os.path.join('checkpoint','nettcr-data', 'nettcr', save_top_k=1, monitor='val_loss')\n",
    "tb_logger = pl_loggers.TensorBoardLogger(save_dir=os.path.join('logs','nettcr-data'), name='nettcr')\n",
    "trainer = pl.Trainer(max_epochs=20, logger=tb_logger, callbacks=[checkpoint_callback], log_every_n_steps=10)\n",
    "trainer.fit(nettcr, train_dataloaders=train_loader, val_dataloaders=val_loader)"
   ]
  },
  {
   "cell_type": "code",
   "execution_count": null,
   "metadata": {},
   "outputs": [],
   "source": [
    "%tensorboard --logdir logs"
   ]
  }
 ],
 "metadata": {
  "kernelspec": {
   "display_name": "Python 3.8.13 ('geo_lightning')",
   "language": "python",
   "name": "python3"
  },
  "language_info": {
   "codemirror_mode": {
    "name": "ipython",
    "version": 3
   },
   "file_extension": ".py",
   "mimetype": "text/x-python",
   "name": "python",
   "nbconvert_exporter": "python",
   "pygments_lexer": "ipython3",
   "version": "3.8.13"
  },
  "orig_nbformat": 4,
  "vscode": {
   "interpreter": {
    "hash": "73e2ca23702b1a0a44eb382a701e0753c1892c2a9c18bb9bb5c5b2fcf6d815fb"
   }
  }
 },
 "nbformat": 4,
 "nbformat_minor": 2
}
