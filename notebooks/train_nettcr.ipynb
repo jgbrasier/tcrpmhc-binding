{
 "cells": [
  {
   "cell_type": "code",
   "execution_count": 1,
   "metadata": {},
   "outputs": [],
   "source": [
    "import os\n",
    "import sys\n",
    "import torch\n",
    "import pytorch_lightning as pl\n",
    "from pytorch_lightning import loggers as pl_loggers\n",
    "from pytorch_lightning.callbacks import ModelCheckpoint\n",
    "\n",
    "\n",
    "sys.path.insert(0, os.path.abspath(os.path.join('..')))\n",
    "\n",
    "from src.dataset import NetTCRDataModule\n",
    "from src.models import LightningNetTCR\n",
    "from src.utils import blosum50_full, blosum50_20aa"
   ]
  }
 ],
 "metadata": {
  "kernelspec": {
   "display_name": "tcrbind",
   "language": "python",
   "name": "python3"
  },
  "language_info": {
   "codemirror_mode": {
    "name": "ipython",
    "version": 3
   },
   "file_extension": ".py",
   "mimetype": "text/x-python",
   "name": "python",
   "nbconvert_exporter": "python",
   "pygments_lexer": "ipython3",
   "version": "3.8.13 | packaged by conda-forge | (default, Mar 25 2022, 06:05:16) \n[Clang 12.0.1 ]"
  },
  "orig_nbformat": 4,
  "vscode": {
   "interpreter": {
    "hash": "560dd1d7156606f13a7445ff69c7051db43d809c46749248ec14e34c5b781448"
   }
  }
 },
 "nbformat": 4,
 "nbformat_minor": 2
}
